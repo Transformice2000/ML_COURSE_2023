{
  "cells": [
    {
      "cell_type": "markdown",
      "metadata": {
        "id": "-JUOp2KEdHTn"
      },
      "source": [
        "# Numpy (Часть 3)\n"
      ]
    },
    {
      "cell_type": "markdown",
      "metadata": {
        "id": "e0V6kOoTM-DD"
      },
      "source": [
        "> 🚀 В этой практике нам понадобятся: `numpy==1.21.2`\n",
        "\n",
        "> 🚀 Установить вы их можете с помощью команды: `%pip install numpy==1.21.2`\n"
      ]
    },
    {
      "cell_type": "markdown",
      "metadata": {
        "id": "H3u56AvKM-DE"
      },
      "source": [
        "## Содержание\n",
        "\n",
        "* [Broadcasting (трансляция)](#Broadcasting-трансляция)\n",
        "* [Изменение размеров массива (Reshape)](#Изменение-размеров-массива-Reshape)\n",
        "* [Объединение массивов](#Объединение-массивов)\n",
        "  * [Задание - объединяем](#Задание---объединяем)\n",
        "  * [Задание - расширяем](#Задание---расширяем)\n",
        "* [Сортировка массива](#Сортировка-массива)\n",
        "  * [Задание - покопаемся в доках](#Задание---покопаемся-в-доках)\n",
        "  * [Задание - никуда без сортировки](#Задание---никуда-без-сортировки)\n",
        "* [Задачки](#Задачки)\n",
        "* [Полезные ссылки](#Полезные-ссылки)\n"
      ]
    },
    {
      "cell_type": "markdown",
      "metadata": {
        "id": "C6k-EBO9M-DE"
      },
      "source": [
        "В этом ноутбуке:\n",
        "- Broadcasting - операции между массивами неодинаковых размеров\n",
        "- Изменение формы массива  - reshape\n",
        "- Объединение массивов - concatenate\n",
        "- Сортировка по элементам и индексам - sort, argsort"
      ]
    },
    {
      "cell_type": "markdown",
      "metadata": {
        "id": "ZDFambH9M-DE"
      },
      "source": [
        "Теперь рассмотрим некоторые \"рутинные\" процедуры работы с массивами, которые пригодятся в дальнейшем. За более полной документацией сюда https://numpy.org/doc/stable/reference/routines.array-manipulation.html"
      ]
    },
    {
      "cell_type": "code",
      "execution_count": null,
      "metadata": {
        "_cell_id": "Gnswph8PRvQSuEqc",
        "id": "TEKU6fQIM-DE"
      },
      "outputs": [],
      "source": [
        "import numpy as np"
      ]
    },
    {
      "cell_type": "markdown",
      "metadata": {
        "id": "bcgRRkseBqzq"
      },
      "source": [
        "## Broadcasting (трансляция)"
      ]
    },
    {
      "cell_type": "markdown",
      "metadata": {
        "id": "fgwB6980BuZ0"
      },
      "source": [
        "Broadcasting - это механизм  выполнения математических операций с массивами *неодинаковых* размеров. Тема достаточно \"широкая\" =)\n",
        "\n",
        "На деле механизм очень полезен и его понять его стоит, так как он является одним из мощных инструментов библиотеки numpy. Допустим, мы имеет вектор $(4,)$, матрицу $(3, 4)$ и хотим умножить этот вектор на каждую строку матрицы. Самый простой способ - пройти в цикле по строкам:"
      ]
    },
    {
      "cell_type": "code",
      "execution_count": null,
      "metadata": {
        "_cell_id": "Tdr3ZZx6HQO35UWz",
        "colab": {
          "base_uri": "https://localhost:8080/",
          "height": 85
        },
        "id": "PXEeaAmqHqp8",
        "outputId": "e9df1550-a4d7-4a0c-ad7a-72ca7b5fccbd"
      },
      "outputs": [
        {
          "name": "stdout",
          "output_type": "stream",
          "text": [
            "[0 1 2 3]\n",
            "[[1. 1. 1. 1.]\n",
            " [1. 1. 1. 1.]\n",
            " [1. 1. 1. 1.]]\n"
          ]
        }
      ],
      "source": [
        "vec = np.arange(4)\n",
        "mtrx = np.ones((3, 4))\n",
        "print(vec)\n",
        "print(mtrx)"
      ]
    },
    {
      "cell_type": "code",
      "execution_count": null,
      "metadata": {
        "_cell_id": "QXzoohJKjqqRKApE",
        "colab": {
          "base_uri": "https://localhost:8080/",
          "height": 68
        },
        "id": "8xH_CXJoHrkr",
        "outputId": "8931243f-8edb-434b-a9e7-8f6c0ae23b2f"
      },
      "outputs": [
        {
          "name": "stdout",
          "output_type": "stream",
          "text": [
            "[[0. 1. 2. 3.]\n",
            " [0. 1. 2. 3.]\n",
            " [0. 1. 2. 3.]]\n"
          ]
        }
      ],
      "source": [
        "result = np.empty_like(mtrx)\n",
        "\n",
        "for i_row in range(mtrx.shape[0]):\n",
        "    result[i_row,:] = mtrx[i_row,:] * vec\n",
        "\n",
        "print(result)"
      ]
    },
    {
      "cell_type": "markdown",
      "metadata": {
        "id": "UVbNFmqkIHL_"
      },
      "source": [
        "С другой стороны, можно склонировать вектор по размеру матрицы, чтобы затем просто перемножить поэлементно две матрицы."
      ]
    },
    {
      "cell_type": "code",
      "execution_count": null,
      "metadata": {
        "_cell_id": "HmVBFRN2YZl7c5mG",
        "colab": {
          "base_uri": "https://localhost:8080/",
          "height": 120
        },
        "id": "P2aJ71qMIJIN",
        "outputId": "448c3bf1-80dc-4be5-f184-21676363c69d"
      },
      "outputs": [
        {
          "name": "stdout",
          "output_type": "stream",
          "text": [
            "[[0 1 2 3]\n",
            " [0 1 2 3]\n",
            " [0 1 2 3]]\n",
            "[[0. 1. 2. 3.]\n",
            " [0. 1. 2. 3.]\n",
            " [0. 1. 2. 3.]]\n"
          ]
        }
      ],
      "source": [
        "# Функция np.tile() повторяет массив то количество раз и по тем осям,\n",
        "#   которые заданы в аргументе reps\n",
        "vec_m = np.tile(vec, reps=(3, 1))\n",
        "print(vec_m)\n",
        "print(vec_m * mtrx)"
      ]
    },
    {
      "cell_type": "markdown",
      "metadata": {
        "id": "YIAATyxQHp6y"
      },
      "source": [
        "А можно вспомнить про броадкастинг и просто умножить вектор на матрицу:"
      ]
    },
    {
      "cell_type": "code",
      "execution_count": null,
      "metadata": {
        "_cell_id": "3pr4HllooXL3Gv3f",
        "colab": {
          "base_uri": "https://localhost:8080/",
          "height": 68
        },
        "id": "cvhGzlKyGPkk",
        "outputId": "2a95f876-650c-4208-a340-f1b8c916cb10"
      },
      "outputs": [
        {
          "name": "stdout",
          "output_type": "stream",
          "text": [
            "[[0. 1. 2. 3.]\n",
            " [0. 1. 2. 3.]\n",
            " [0. 1. 2. 3.]]\n"
          ]
        }
      ],
      "source": [
        "# Умножение, используя броадкастинг\n",
        "print(vec * mtrx)"
      ]
    },
    {
      "cell_type": "markdown",
      "metadata": {
        "id": "m45myVWXInxI"
      },
      "source": [
        "Таким образом, броадкастинг - это механизм распространения элементов операций по разметностям, по которым количество элементов не соотносится с другим операндом. В последней ячейке вектор был продублирован на каждую строку так, что размерности соотносятся.\n",
        "\n",
        "> Обязательно прочитайте примеры броадкастинга в [статье](https://numpy.org/doc/stable/user/basics.broadcasting.html).\n",
        "\n",
        "Броадкастинг также работает и при умножении скаляра на массив:"
      ]
    },
    {
      "cell_type": "code",
      "execution_count": null,
      "metadata": {
        "_cell_id": "grMRcnNfzSgQGH0F",
        "id": "vyolr9OlHRx0"
      },
      "outputs": [],
      "source": [
        "print(2 * mtrx)"
      ]
    },
    {
      "cell_type": "markdown",
      "metadata": {
        "id": "b5C9CLXvLy_X"
      },
      "source": [
        "Чтобы больше понять правила броадкастинга, посмотрим на результаты операций 3D матриц:"
      ]
    },
    {
      "cell_type": "code",
      "execution_count": null,
      "metadata": {
        "_cell_id": "RRHBKvaHrhlFberK",
        "colab": {
          "base_uri": "https://localhost:8080/",
          "height": 34
        },
        "id": "p5gNIS1QLmTq",
        "outputId": "7fa00931-ba99-478c-ad75-3b78f4f5a7d2"
      },
      "outputs": [
        {
          "name": "stdout",
          "output_type": "stream",
          "text": [
            "(4, 3, 2)\n"
          ]
        }
      ],
      "source": [
        "x = np.ones((4, 1, 1))\n",
        "y = np.random.randint(0, 5, size=(4, 3, 2))\n",
        "\n",
        "print((x*y).shape)"
      ]
    },
    {
      "cell_type": "code",
      "execution_count": null,
      "metadata": {
        "_cell_id": "iYdTfdbam0GQeZPc",
        "colab": {
          "base_uri": "https://localhost:8080/",
          "height": 34
        },
        "id": "sXzWWxHnMS8E",
        "outputId": "25083e01-0bc9-4847-de27-43dfe21695bc"
      },
      "outputs": [
        {
          "name": "stdout",
          "output_type": "stream",
          "text": [
            "(4, 3, 2)\n"
          ]
        }
      ],
      "source": [
        "x = np.ones((3, 1))\n",
        "y = np.random.randint(0, 5, size=(4, 3, 2))\n",
        "\n",
        "print((x*y).shape)"
      ]
    },
    {
      "cell_type": "code",
      "execution_count": null,
      "metadata": {
        "_cell_id": "3n8fEkJftRkcB0tZ",
        "colab": {
          "base_uri": "https://localhost:8080/",
          "height": 34
        },
        "id": "gCclW4LGMYUA",
        "outputId": "0eb46602-898b-4c67-899a-07ba5bfda2ba"
      },
      "outputs": [
        {
          "name": "stdout",
          "output_type": "stream",
          "text": [
            "(5, 3, 2)\n"
          ]
        }
      ],
      "source": [
        "x = np.ones((1, 3, 2))\n",
        "y = np.random.randint(0, 5, size=(5, 1, 2))\n",
        "\n",
        "print((x*y).shape)"
      ]
    },
    {
      "cell_type": "markdown",
      "metadata": {
        "id": "V5BvOyFOMdyr"
      },
      "source": [
        "В последних примерах можно увидеть, что размерности должны быть соотносимы (количества размерностей равны). В случае неравенства количества размерностей новые размерности со значением 1 добавляются слева ($(3, 1) \\rightarrow (1, 3, 1)$ в одном из примеров).\n",
        "\n",
        "> Добавление размерности было и в случае умножения вектора на матрицу: $(4,)*(3, 4) \\rightarrow (1, 4)*(3, 4)$\n",
        "\n",
        "Броадкастинг делается по тем осям, которые у одного операнда имеют размерность 1 путем копирования.\n",
        "\n",
        "> В нашем случае $(1, 4)*(3, 4) \\rightarrow (3, 4)*(3, 4)$"
      ]
    },
    {
      "cell_type": "markdown",
      "metadata": {
        "id": "7TwQwQt6OEA_"
      },
      "source": [
        "Осознать броадкастинг сразу не совсем просто, но главное не забывать, что такой инструмент есть и им нужно пользоваться во избежание лишнего кода."
      ]
    },
    {
      "cell_type": "markdown",
      "metadata": {
        "id": "6Aece1s4OM7y"
      },
      "source": [
        "## Изменение размеров массива (Reshape)"
      ]
    },
    {
      "cell_type": "markdown",
      "metadata": {
        "id": "AjcQO4NSOQtv"
      },
      "source": [
        "Ещё одна интересная тема, которую стоит рассмотреть. Мы уже касались вопроса приведения массива к выпрямленному виду - это один из видов изменения размерности массива.\n",
        "\n",
        "По сути, размерность массива - это порядок выстроенных элементы в нём. Изменение размерности - это изменение структуры **без изменения элементов или порядка**.\n",
        "\n",
        "Рассмотрим на примере:"
      ]
    },
    {
      "cell_type": "code",
      "execution_count": null,
      "metadata": {
        "_cell_id": "8bBWtkX8eQWThMCo",
        "id": "QaEqZf_aPoSp"
      },
      "outputs": [],
      "source": [
        "arr = np.arange(20)\n",
        "print(arr)"
      ]
    },
    {
      "cell_type": "markdown",
      "metadata": {
        "id": "y6rx0qLXPtKD"
      },
      "source": [
        "Вот мы имеем вектор из 20 элементов в порядке возрастания. Теперь, допустим, нам нужно сделать массив размером $(4, 5)$, в котором каждый ряд - это продолжение предыдущего по возрастанию чисел. Для начала сделаем руками:"
      ]
    },
    {
      "cell_type": "code",
      "execution_count": null,
      "metadata": {
        "_cell_id": "jezQGYGCMTBAlgSh",
        "id": "Kx9kBRe2QBR-"
      },
      "outputs": [],
      "source": [
        "mtrx = np.ndarray((4, 5), dtype=np.int32)\n",
        "mtrx[0, :] = arr[:5]\n",
        "mtrx[1, :] = arr[5:10]\n",
        "mtrx[2, :] = arr[10:15]\n",
        "mtrx[3, :] = arr[15:]\n",
        "\n",
        "print(mtrx)"
      ]
    },
    {
      "cell_type": "markdown",
      "metadata": {
        "id": "UPyGvrtWdPm-"
      },
      "source": [
        "Получилось как надо, но есть два недостатка:\n",
        "- Если элементов будет больше и нужен будет другой размер - код не универсален;\n",
        "- Приходится расставлять данные вручную.\n",
        "\n",
        "Теперь взглянем, как работает метод `ndarray.reshape()`:"
      ]
    },
    {
      "cell_type": "code",
      "execution_count": null,
      "metadata": {
        "_cell_id": "7zWQHC9JxMAOQ3gQ",
        "id": "AFpqjOXAdOqD"
      },
      "outputs": [],
      "source": [
        "print(arr.reshape((4, 5)))"
      ]
    },
    {
      "cell_type": "markdown",
      "metadata": {
        "id": "rVRLk09SdrtT"
      },
      "source": [
        "В результате происходит тоже самое. То есть, элементы расположились в порядке размещения по размерностям: начиная с первой строки (нулевая размерность) заполняется по колонкам (первая размерность), а как только заполнение по колонкам закончено - переходим на следующий ряд.\n",
        "\n",
        "Таким образом, в какую бы размерность не происходило изменение размера - расположение будет придерживаться этого правила.\n",
        "\n",
        "Для лучшего понимания посмотрим на другие представления:"
      ]
    },
    {
      "cell_type": "code",
      "execution_count": null,
      "metadata": {
        "_cell_id": "LPNmr6VSuw5XCj6m",
        "id": "ecjFNZPPebov"
      },
      "outputs": [],
      "source": [
        "print(arr.reshape((2, 10)))\n",
        "print(arr.reshape((5, 4)))\n",
        "print(arr.reshape((20, 1)))"
      ]
    },
    {
      "cell_type": "markdown",
      "metadata": {
        "id": "VFh8-iyHeh6d"
      },
      "source": [
        "Таким образом, можно приводить к любой размерности с учетом правила:\n",
        "> Количество элементов должно сохраняться\n",
        "\n",
        "Но бывают ситуации, когда мы точно не знаем количество элементов, но нам нужно точно создать, например, 4 строки в матрице. В этом поможет неопределенная размерность, которая задается числом -1:"
      ]
    },
    {
      "cell_type": "code",
      "execution_count": null,
      "metadata": {
        "_cell_id": "v8ywKgp1MXfYP9Yi",
        "id": "-rioXaAse-Da"
      },
      "outputs": [],
      "source": [
        "print(arr.reshape((4, -1)))"
      ]
    },
    {
      "cell_type": "markdown",
      "metadata": {
        "id": "m4DEV-Q0Pngj"
      },
      "source": [
        "Таким образом можно задать, что матрица должна быть 2D с фиксированным количеством строк, но без фиксации на количество столбцов. Конечно же, если в исходном будет 21 элемент, то такой трюк не сработает, потому что 21 не делится на 4 без остатка."
      ]
    },
    {
      "cell_type": "markdown",
      "metadata": {
        "id": "53NWq6i_fe2W"
      },
      "source": [
        "## Объединение массивов"
      ]
    },
    {
      "cell_type": "markdown",
      "metadata": {
        "id": "EDCNSihEfiVA"
      },
      "source": [
        "При работе с массивами бывают случаи, когда несколько массивов необходимо объединить в один. Для этого поможет функция `np.concatenate()` и понимание ее основных правил."
      ]
    },
    {
      "cell_type": "code",
      "execution_count": null,
      "metadata": {
        "_cell_id": "jx6Uf68nCPp7bexV",
        "colab": {
          "base_uri": "https://localhost:8080/",
          "height": 102
        },
        "id": "iiVzWooVfw-w",
        "outputId": "f7fa34a4-09ae-4a2a-e459-acdc3194c75b"
      },
      "outputs": [
        {
          "name": "stdout",
          "output_type": "stream",
          "text": [
            "[[0 1 2 3 4]\n",
            " [5 6 7 8 9]]\n",
            "[[ 0  1  2  3  4]\n",
            " [ 5  6  7  8  9]\n",
            " [10 11 12 13 14]]\n"
          ]
        }
      ],
      "source": [
        "x = np.arange(10).reshape((2, 5))\n",
        "y = np.arange(15).reshape((3, 5))\n",
        "\n",
        "print(x)\n",
        "print(y)"
      ]
    },
    {
      "cell_type": "markdown",
      "metadata": {
        "id": "dpXU_P7TguD_"
      },
      "source": [
        "Для объединения массивов необходимо, чтобы одна из размерностей имела одинаковое количество элементов. Это достаточно логичное требование задаётся аргументом `axis` в функции. Для запоминания направления линии соединения и описыавется числом - \"0\"-строка, \"1\" - столбец."
      ]
    },
    {
      "cell_type": "code",
      "execution_count": null,
      "metadata": {
        "_cell_id": "FQzGIMDs7JNQfcIi",
        "colab": {
          "base_uri": "https://localhost:8080/",
          "height": 102
        },
        "id": "rX9FSi5Hg62I",
        "outputId": "ec9748b2-20e3-48c0-e4f5-b54327a70d2b"
      },
      "outputs": [
        {
          "name": "stdout",
          "output_type": "stream",
          "text": [
            "[[ 0  1  2  3  4]\n",
            " [ 5  6  7  8  9]\n",
            " [ 0  1  2  3  4]\n",
            " [ 5  6  7  8  9]\n",
            " [10 11 12 13 14]]\n"
          ]
        }
      ],
      "source": [
        "print(np.concatenate((x, y), axis=0))"
      ]
    },
    {
      "cell_type": "markdown",
      "metadata": {
        "id": "In1g-miAg_vz"
      },
      "source": [
        "Обратите внимание, что массивы передаются в виде кортежа, что позволяет объединять два и более массивов."
      ]
    },
    {
      "cell_type": "markdown",
      "metadata": {
        "id": "9zi8VK2HhHnw"
      },
      "source": [
        "### Задание - объединяем\n",
        "\n",
        "Объедините три массива вдоль колонок:"
      ]
    },
    {
      "cell_type": "code",
      "execution_count": null,
      "metadata": {
        "_cell_id": "5YDyGQtXibaIcOFJ",
        "colab": {
          "base_uri": "https://localhost:8080/",
          "height": 171
        },
        "id": "WroGVeHYhXYU",
        "outputId": "2f1f5be4-047a-420f-e344-f86d79ec09b0"
      },
      "outputs": [
        {
          "name": "stdout",
          "output_type": "stream",
          "text": [
            "[[ 0  1  2  0  1  2  3  0  1  2  3  4]\n",
            " [ 3  4  5  4  5  6  7  5  6  7  8  9]\n",
            " [ 6  7  8  8  9 10 11 10 11 12 13 14]]\n"
          ]
        }
      ],
      "source": [
        "import numpy as np\n",
        "\n",
        "x = np.arange(9).reshape((3, 3))\n",
        "y = np.arange(12).reshape((3, 4))\n",
        "z = np.arange(15).reshape((3, 5))\n",
        "\n",
        "result = np.concatenate((x, y, z), axis=1)\n",
        "print(result)"
      ]
    },
    {
      "cell_type": "markdown",
      "metadata": {
        "id": "g1vMT1PZSpSs"
      },
      "source": [
        "### Задание - расширяем\n",
        "\n",
        "Напишите реализацию добавления стобца единиц к матрице слева:"
      ]
    },
    {
      "cell_type": "code",
      "execution_count": null,
      "metadata": {
        "_cell_id": "zuLJBq6Op3q0W7mq",
        "colab": {
          "base_uri": "https://localhost:8080/",
          "height": 68
        },
        "id": "uKMSNM0ySyQ2",
        "outputId": "3722835c-1805-4bd8-dcc1-d3685292e7d0"
      },
      "outputs": [
        {
          "name": "stdout",
          "output_type": "stream",
          "text": [
            "[[1. 1. 2. 3.]\n",
            " [1. 4. 5. 6.]\n",
            " [1. 7. 8. 9.]]\n"
          ]
        }
      ],
      "source": [
        "import numpy as np\n",
        "\n",
        "x = np.arange(1, 10).reshape((3, 3))\n",
        "ones_column = np.ones((x.shape[0], 1))\n",
        "\n",
        "result = np.concatenate((ones_column, x), axis=1)\n",
        "print(result)"
      ]
    },
    {
      "cell_type": "markdown",
      "metadata": {
        "id": "Ylb4mK18hxpf"
      },
      "source": [
        "## Сортировка массива"
      ]
    },
    {
      "cell_type": "markdown",
      "metadata": {
        "id": "pLIYlEd0h2fp"
      },
      "source": [
        "Numpy как серьёзная библиотека работы с массивами имеет также и функционал сортировки. Для этого есть функция `np.sort()`, которая производит сортировку элементов и возвращает отсортированный массив:"
      ]
    },
    {
      "cell_type": "code",
      "execution_count": null,
      "metadata": {
        "_cell_id": "0jtCkadR9eU7E3XD",
        "colab": {
          "base_uri": "https://localhost:8080/",
          "height": 51
        },
        "id": "qeoYgI9Eilc6",
        "outputId": "bb414f6f-18e6-4961-f1a3-036c0447290a"
      },
      "outputs": [
        {
          "name": "stdout",
          "output_type": "stream",
          "text": [
            "[ 2  4  5  1  2  7  5  0 -1  3  5]\n",
            "[-1  0  1  2  2  3  4  5  5  5  7]\n"
          ]
        }
      ],
      "source": [
        "unsorted_arr = np.array([2, 4, 5, 1, 2, 7, 5, 0, -1, 3, 5])\n",
        "sorted_arr = np.sort(unsorted_arr)\n",
        "\n",
        "print(unsorted_arr)\n",
        "print(sorted_arr)"
      ]
    },
    {
      "cell_type": "markdown",
      "metadata": {
        "id": "Bnck_27Bi0id"
      },
      "source": [
        "Помимо явной сортировки существует также функция `np.argsort()`, которая возвращает не отсортированный массив, а массив индексов исходного массива в порядке, который даёт отсортированный исходный. Посмотрим:"
      ]
    },
    {
      "cell_type": "code",
      "execution_count": null,
      "metadata": {
        "_cell_id": "rp7pi0G63Eb1H3D1",
        "colab": {
          "base_uri": "https://localhost:8080/",
          "height": 51
        },
        "id": "NPkO5wIkjvoN",
        "outputId": "af528fc2-8d42-4e22-ff1c-2d22c89fd48e"
      },
      "outputs": [
        {
          "name": "stdout",
          "output_type": "stream",
          "text": [
            "[ 8  7  3  0  4  9  1  2  6 10  5]\n",
            "[-1  0  1  2  2  3  4  5  5  5  7]\n"
          ]
        }
      ],
      "source": [
        "sorted_indices = np.argsort(unsorted_arr)\n",
        "print(sorted_indices)\n",
        "\n",
        "# А теперь воспользуемся индексами и отобразим исходный массив с индексацией\n",
        "print(unsorted_arr[sorted_indices])"
      ]
    },
    {
      "cell_type": "markdown",
      "metadata": {
        "id": "unm24O5ukBIN"
      },
      "source": [
        "### Задание - покопаемся в доках\n",
        "\n",
        "По такому же принципу именования найдите функцию в документации, которая возвращает индекс максимального/минимального (в завимости от варианта) элемента в массиве.\n",
        "\n",
        "Воспользуйтесь найденной функцией и найдите индексы максимальных элементов в каждом столбце 2D матрицы:"
      ]
    },
    {
      "cell_type": "code",
      "execution_count": null,
      "metadata": {
        "_cell_id": "p7KEAyrTCIY4lJA4",
        "colab": {
          "base_uri": "https://localhost:8080/",
          "height": 85
        },
        "id": "V8mS3lbMkzha",
        "outputId": "958fbb69-e2ee-47f0-dbf5-750da91b3616"
      },
      "outputs": [
        {
          "name": "stdout",
          "output_type": "stream",
          "text": [
            "Максимальные индексы: [0 2 3 3 1]\n",
            "Минимальные индексы: [2 0 1 1 0]\n"
          ]
        }
      ],
      "source": [
        "import numpy as np\n",
        "\n",
        "arr = np.array([\n",
        "    [11, -1, 1, 3, 5],\n",
        "    [6, 1, 0, -1, 10],\n",
        "    [1, 3, 2, 3, 6],\n",
        "    [5, 2, 7, 8, 9],\n",
        "])\n",
        "\n",
        "max_indices = np.argmax(arr, axis=0)\n",
        "min_indices = np.argmin(arr, axis=0)\n",
        "\n",
        "print(\"Максимальные индексы:\", max_indices)\n",
        "print(\"Минимальные индексы:\", min_indices)\n"
      ]
    },
    {
      "cell_type": "markdown",
      "metadata": {
        "id": "B-BhMwTynb1c"
      },
      "source": [
        "### Задание - никуда без сортировки\n",
        "\n",
        "Напишите код сортировки массива по столбцам:"
      ]
    },
    {
      "cell_type": "code",
      "execution_count": null,
      "metadata": {
        "_cell_id": "cdy3fthBSFRPSrlp",
        "id": "TYg2MqMhM-DM",
        "outputId": "274e00dc-db0e-4d08-90fd-8635becc9af8"
      },
      "outputs": [
        {
          "name": "stdout",
          "output_type": "stream",
          "text": [
            "[[ 1  2  0 -1  5]\n",
            " [ 5  2  1  3  5]\n",
            " [ 6  2  2  3  9]\n",
            " [11  3  7  8 10]]\n"
          ]
        }
      ],
      "source": [
        "import numpy as np\n",
        "\n",
        "arr = np.array([\n",
        "    [11, 2, 1, 3, 5],\n",
        "    [6, 2, 0, -1, 10],\n",
        "    [1, 3, 2, 3, 5],\n",
        "    [5, 2, 7, 8, 9],\n",
        "])\n",
        "\n",
        "sorted_arr = np.sort(arr, axis=0)\n",
        "\n",
        "print(sorted_arr)\n"
      ]
    },
    {
      "cell_type": "markdown",
      "metadata": {
        "id": "Q7HnQ1sydJy9"
      },
      "source": [
        "## Задачки"
      ]
    },
    {
      "cell_type": "markdown",
      "metadata": {
        "id": "G9GZ6RxEFl4R"
      },
      "source": [
        "Создайте массив, состоящий из случайных элементов в диапазоне $[-10; 20]$ размером $(5, 7)$:"
      ]
    },
    {
      "cell_type": "code",
      "execution_count": null,
      "metadata": {
        "_cell_id": "gAjyPuA7W5H2HZYc",
        "id": "nm7ygwgfF-2M",
        "outputId": "7bd56c45-29c4-40af-90bc-619788d7bb6b"
      },
      "outputs": [
        {
          "name": "stdout",
          "output_type": "stream",
          "text": [
            "[[ 12  10  -2  13  10  10 -10]\n",
            " [ -1  -3  -8   2  -8  -6   3]\n",
            " [  6  18  11  -2   8  -9  15]\n",
            " [  5  19   1  10   9  18   0]\n",
            " [ -7   8  -5  12  17  -4 -10]]\n"
          ]
        }
      ],
      "source": [
        "import numpy as np\n",
        "\n",
        "arr = np.random.randint(-10, 20, size=(5, 7))\n",
        "\n",
        "print(arr)"
      ]
    },
    {
      "cell_type": "markdown",
      "metadata": {
        "id": "N7RHO3OQmZAv"
      },
      "source": [
        "Добавьте границу в виде нулей со всех сторон 2D массива:"
      ]
    },
    {
      "cell_type": "code",
      "execution_count": null,
      "metadata": {
        "_cell_id": "SWu7VBQIS9kzxtT9",
        "id": "ehRqFFzFM-DN",
        "outputId": "03ef3241-844a-45fb-d003-dcc7d1fb8c44"
      },
      "outputs": [
        {
          "name": "stdout",
          "output_type": "stream",
          "text": [
            "[[ 0  0  0  0  0  0  0]\n",
            " [ 0  1  2  3  4  5  0]\n",
            " [ 0  6  7  8  9 10  0]\n",
            " [ 0 11 12 13 14 15  0]\n",
            " [ 0  0  0  0  0  0  0]]\n"
          ]
        }
      ],
      "source": [
        "import numpy as np\n",
        "\n",
        "data = np.arange(1, 16).reshape((3, 5))\n",
        "\n",
        "padded_data = np.pad(data, pad_width=1, constant_values=0)\n",
        "\n",
        "print(padded_data)"
      ]
    },
    {
      "cell_type": "markdown",
      "metadata": {
        "id": "dZd4lWT7-A02"
      },
      "source": [
        "Разберитесь с функцией `np.clip()` и произведите ограничение массива, чтобы в нем значения были не более шести и не менее двух:"
      ]
    },
    {
      "cell_type": "code",
      "execution_count": null,
      "metadata": {
        "_cell_id": "Nhl15cB5pEcVkYym",
        "id": "GxV-sIDOM-DN",
        "outputId": "c9a87e7b-0dab-499d-8eb3-2b75a531b27d"
      },
      "outputs": [
        {
          "name": "stdout",
          "output_type": "stream",
          "text": [
            "[[2 2 3 4 5]\n",
            " [6 6 6 6 6]\n",
            " [6 6 6 6 6]]\n"
          ]
        }
      ],
      "source": [
        "import numpy as np\n",
        "\n",
        "data = np.arange(1, 16).reshape((3, 5))\n",
        "\n",
        "clipped_data = np.clip(data, 2, 6)\n",
        "\n",
        "print(clipped_data)\n"
      ]
    },
    {
      "cell_type": "markdown",
      "metadata": {
        "id": "GaK2Wjsc-ufd"
      },
      "source": [
        "Произведите модификацию массива так, чтобы значение в колонке результата соответствовало исходному значению, возведенному в степень индекса колонки:"
      ]
    },
    {
      "cell_type": "code",
      "execution_count": null,
      "metadata": {
        "_cell_id": "bQrw9aMyBY3tePY0",
        "id": "6sbn9rTMM-DO",
        "outputId": "50a8b91c-b870-41c7-8db7-cfdb751b70ba"
      },
      "outputs": [
        {
          "name": "stdout",
          "output_type": "stream",
          "text": [
            "[[ 1  2  4  8 16]\n",
            " [ 1  2  4  8 16]\n",
            " [ 1  2  4  8 16]]\n"
          ]
        }
      ],
      "source": [
        "import numpy as np\n",
        "\n",
        "data = np.full((3, 5), fill_value=2, dtype=np.int32)\n",
        "\n",
        "modified_data = np.power(data, np.arange(5))\n",
        "\n",
        "print(modified_data)\n"
      ]
    },
    {
      "cell_type": "markdown",
      "metadata": {
        "id": "UvwJTfMQE2Eh"
      },
      "source": [
        "Умножьте каждую колонку на её индекс:"
      ]
    },
    {
      "cell_type": "code",
      "execution_count": null,
      "metadata": {
        "_cell_id": "hHwO0PMQ23EPyFd3",
        "id": "F9bjL-q7M-DO",
        "outputId": "d28ef2c8-f624-42dc-eff8-f44179b21c31"
      },
      "outputs": [
        {
          "name": "stdout",
          "output_type": "stream",
          "text": [
            "[[0 2 4 6 8]\n",
            " [0 2 4 6 8]\n",
            " [0 2 4 6 8]]\n"
          ]
        }
      ],
      "source": [
        "import numpy as np\n",
        "\n",
        "data = np.full((3, 5), fill_value=2, dtype=np.int32)\n",
        "\n",
        "modified_data = np.multiply(data, np.arange(5))\n",
        "\n",
        "print(modified_data)\n"
      ]
    },
    {
      "cell_type": "markdown",
      "metadata": {
        "id": "VzMibei69GMQ"
      },
      "source": [
        "Умножьте каждый чётный ряд в матрице на вектор:"
      ]
    },
    {
      "cell_type": "code",
      "execution_count": null,
      "metadata": {
        "_cell_id": "qjDBMrzrmpSxbdO5",
        "id": "_teQ5ZZ8M-DO",
        "outputId": "6844918b-9cf0-4cc7-f287-c8ac62479377"
      },
      "outputs": [
        {
          "name": "stdout",
          "output_type": "stream",
          "text": [
            "[[ 1  2  1  2]\n",
            " [ 2  2  2  2]\n",
            " [ 3  6  3  6]\n",
            " [ 4  4  4  4]\n",
            " [ 5 10  5 10]\n",
            " [ 6  6  6  6]\n",
            " [ 7 14  7 14]]\n"
          ]
        }
      ],
      "source": [
        "import numpy as np\n",
        "\n",
        "data = np.repeat(np.arange(1, 8), 4).reshape(7, 4)\n",
        "vec = np.array([1, 2, 1, 2])\n",
        "\n",
        "modified_data = data.copy()\n",
        "\n",
        "modified_data[::2] = np.multiply(modified_data[::2], vec)\n",
        "\n",
        "print(modified_data)"
      ]
    },
    {
      "cell_type": "markdown",
      "metadata": {
        "id": "HkNh2J_BCXgo"
      },
      "source": [
        "Определите индексы двух наибольших элементов в матрице по каждому ряду:"
      ]
    },
    {
      "cell_type": "code",
      "execution_count": null,
      "metadata": {
        "_cell_id": "vEoEttLtXdsMYGmX",
        "id": "3EeuV9PaM-DO",
        "outputId": "90f31e51-cb61-4b03-8f2a-d8a841fb5413"
      },
      "outputs": [
        {
          "name": "stdout",
          "output_type": "stream",
          "text": [
            "[[4 1]\n",
            " [1 2]\n",
            " [3 1]\n",
            " [5 3]]\n"
          ]
        }
      ],
      "source": [
        "import numpy as np\n",
        "\n",
        "data = np.array([[20, 22,  2, 14, 25,  8],\n",
        "                [ 7, 25, 23,  3, 22, 15],\n",
        "                [ 8, 16,  9, 22,  0,  9],\n",
        "                [ 4, 24, 24, 28,  3, 40]])\n",
        "\n",
        "max_indices = np.argsort(-data, axis=1)[:, :2]\n",
        "print(max_indices)\n"
      ]
    },
    {
      "cell_type": "markdown",
      "metadata": {
        "id": "dHWhvnrxGNbi"
      },
      "source": [
        "Выберите две случайные колонки из массива:\n",
        "\n",
        "<details><summary>Подсказка 1</summary>\n",
        "Для случайного выбора полезно воспользоваться функцией `np.random.choice()`\n",
        "</details>\n",
        "\n",
        "<details>\n",
        "<summary>Подсказка 2</summary>\n",
        "`np.random.choice()` принимает на вход 1D массив, так что для выбора можно создать массив индексов колонок (`range()` с количеством колонок) и из него функция выберет два случайных индекса\n",
        "</details>"
      ]
    },
    {
      "cell_type": "code",
      "execution_count": null,
      "metadata": {
        "_cell_id": "eNwrWVfi1TDLnodI",
        "colab": {
          "base_uri": "https://localhost:8080/",
          "height": 154
        },
        "id": "QyOXcEMSGWhJ",
        "outputId": "3eb31563-01bf-4a2d-fc8c-4d6c199759de"
      },
      "outputs": [
        {
          "name": "stdout",
          "output_type": "stream",
          "text": [
            "[[20  8]\n",
            " [ 7 15]\n",
            " [ 8  9]\n",
            " [ 4 40]]\n"
          ]
        }
      ],
      "source": [
        "import numpy as np\n",
        "\n",
        "data = np.array([[20, 22,  2, 14, 25,  8],\n",
        "                [ 7, 25, 23,  3, 22, 15],\n",
        "                [ 8, 16,  9, 22,  0,  9],\n",
        "                [ 4, 24, 24, 28,  3, 40]])\n",
        "\n",
        "random_columns = np.random.choice(data.shape[1], size=2, replace=False)\n",
        "\n",
        "selected_columns = data[:, random_columns]\n",
        "\n",
        "print(selected_columns)\n"
      ]
    },
    {
      "cell_type": "markdown",
      "metadata": {
        "id": "2klcFh_wKeZl"
      },
      "source": [
        "Создайте массив размером $(10, 3)$, который состоит из повторяющихся рядов исходного массива:"
      ]
    },
    {
      "cell_type": "code",
      "execution_count": 2,
      "metadata": {
        "_cell_id": "520Re5TiDJDhBrTf",
        "colab": {
          "base_uri": "https://localhost:8080/"
        },
        "id": "2N5udeB9M-DP",
        "outputId": "9b0128f3-110f-410d-9601-e119e7682670"
      },
      "outputs": [
        {
          "output_type": "stream",
          "name": "stdout",
          "text": [
            "[[0 1 2]\n",
            " [3 4 5]\n",
            " [6 7 8]\n",
            " [0 1 2]\n",
            " [3 4 5]\n",
            " [6 7 8]\n",
            " [0 1 2]\n",
            " [3 4 5]\n",
            " [6 7 8]\n",
            " [0 1 2]]\n"
          ]
        }
      ],
      "source": [
        "import numpy as np\n",
        "\n",
        "data = np.arange(9).reshape(3, 3)\n",
        "repeated_rows = np.tile(data, (4, 1))[:10, :]\n",
        "\n",
        "print(repeated_rows)\n"
      ]
    },
    {
      "cell_type": "markdown",
      "metadata": {
        "id": "SH70EM7FIyqL"
      },
      "source": [
        "Соберите массив, состоящий из элементов 2-й и 4-й колонок и строк с 1-й по 3-ю (**цифры указаны с учётом индексации с 0-ля!**):"
      ]
    },
    {
      "cell_type": "code",
      "execution_count": 13,
      "metadata": {
        "_cell_id": "XoSXq9vLIzBNgxEI",
        "colab": {
          "base_uri": "https://localhost:8080/"
        },
        "id": "t5X5jebBM-DP",
        "outputId": "b2e82005-bdb4-4272-9031-d4ed44c107ec"
      },
      "outputs": [
        {
          "output_type": "stream",
          "name": "stdout",
          "text": [
            "[[23 22]\n",
            " [ 9  0]\n",
            " [33  7]]\n"
          ]
        }
      ],
      "source": [
        "data = np.array([[20, 22,  2, 14, 25,  8],\n",
        "                [ 7, 25, 23,  3, 22, 15],\n",
        "                [ 8, 16,  9, 22,  0,  9],\n",
        "                [ 14, 9,  33, 21,  7,  6],\n",
        "                [ 4, 24, 24, 28,  3, 40]])\n",
        "\n",
        "\n",
        "arr[0,0]=data[1,2]\n",
        "arr[0,1]=data[1,4]\n",
        "arr[1,0]=data[2,2]\n",
        "arr[1,1]=data[2,4]\n",
        "arr[2,0]=data[3,2]\n",
        "arr[2,1]=data[3,4]\n",
        "print (arr)\n"
      ]
    },
    {
      "cell_type": "markdown",
      "metadata": {
        "id": "vS3kwb59Jee2"
      },
      "source": [
        "Инвертируйте порядок элементов в последних двух колонках:"
      ]
    },
    {
      "cell_type": "code",
      "execution_count": 14,
      "metadata": {
        "_cell_id": "4lO53T2Zle0mzWLW",
        "colab": {
          "base_uri": "https://localhost:8080/"
        },
        "id": "wTKNzMf9Jd3g",
        "outputId": "fe121a70-2ef0-431b-a5eb-7c9594d8130f"
      },
      "outputs": [
        {
          "output_type": "stream",
          "name": "stdout",
          "text": [
            "[[20 22  2 14  3 40]\n",
            " [ 7 25 23  3  7  6]\n",
            " [ 8 16  9 22  0  9]\n",
            " [14  9 33 21 22 15]\n",
            " [ 4 24 24 28 25  8]]\n"
          ]
        }
      ],
      "source": [
        "data = np.array([[20, 22,  2, 14, 25,  8],\n",
        "                [ 7, 25, 23,  3, 22, 15],\n",
        "                [ 8, 16,  9, 22,  0,  9],\n",
        "                [ 14, 9,  33, 21,  7,  6],\n",
        "                [ 4, 24, 24, 28,  3, 40]])\n",
        "\n",
        "arr=data.copy()\n",
        "mas = data[::-1]\n",
        "arr[:,4:6]=mas[:,4:6]\n",
        "print(arr)\n"
      ]
    },
    {
      "cell_type": "markdown",
      "metadata": {
        "id": "oobtrXR9M-DQ"
      },
      "source": [
        "## Полезные ссылки\n",
        "* [More than 15 jupyter notebooks to learn Numpy](https://www.kaggle.com/getting-started/115421)\n"
      ]
    }
  ],
  "metadata": {
    "colab": {
      "provenance": [],
      "toc_visible": true
    },
    "kernelspec": {
      "display_name": "Python 3.8.10 ('.venv': poetry)",
      "language": "python",
      "name": "python3"
    },
    "language_info": {
      "codemirror_mode": {
        "name": "ipython",
        "version": 3
      },
      "file_extension": ".py",
      "mimetype": "text/x-python",
      "name": "python",
      "nbconvert_exporter": "python",
      "pygments_lexer": "ipython3",
      "version": "3.8.14"
    },
    "vscode": {
      "interpreter": {
        "hash": "5ef4d00d2bd0c756646408250b3e0222db1655439c25a4f11279476b8286db07"
      }
    }
  },
  "nbformat": 4,
  "nbformat_minor": 0
}